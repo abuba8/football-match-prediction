{
 "cells": [
  {
   "cell_type": "markdown",
   "metadata": {
    "_uuid": "3cb3f3c5c27def83d011f2de99c8cdb79a1b7b45"
   },
   "source": [
    "# Predicting the winner of the 2018 FIFA World Cup\n",
    "**Aim**: \n",
    "to predict the outcome of the FIFA World Cup 2018\n",
    "UPDATE: see the simulation of the single elimination phase here: https://www.kaggle.com/agostontorok/winner-of-the-fifa-world-cup-10-000-simulations \n",
    "\n",
    " **Method**:\n",
    "- Use data from Kaggle to model the outcome of certain pairings between teams, given their rank, points, and the weighted point difference with the opponent.\n",
    "- Use this model to predict the outcome of the group rounds and then the single-elimination phase\n",
    "\n",
    "**Summary**\n",
    "According to the analysis below, the team that will win the World Cup is the [underdog according to the bookies](https://www.oddschecker.com/football/world-cup/winner): Germany . But this is not the only interesting thing you can observe. If [not interested in the data munging part](https://ih1.redbubble.net/image.441592463.7099/sticker,375x360-bg,ffffff.u1.png) head to the last section (Visualization) and see the single-elimination phase. To make the story more interesting for the sport lovers, I report fair odds (i.e. fair market, without bookmaker margin) instead of the raw probability output. \n",
    "\n",
    "Couple things to note, \n",
    "- it seems Egypt qualifies to the best 16 and their match with Portugal is the safest bet in the phase. \n",
    "- In this simulation, Brasil cannot make it through Belgium.. I'm sure here many would consider otherwise\n",
    "- It seems that neither CRonaldo (POR) nor LMessi (ARG) is going to play in the final but they are going to play against each other in the quarterfinals...\n",
    "\n",
    "All in all, I'm looking forward to the tournament! Place your bets and get ready you too! \n",
    "\n",
    "Cheers!"
   ]
  },
  {
   "cell_type": "markdown",
   "metadata": {
    "_uuid": "55d7132bf01a6553a087fd6ce7aad6be3553e4f5"
   },
   "source": [
    "# Data I/O\n",
    "\n",
    "I use three datasets\n",
    "- FIFA rankings from 1993 to 2018 (courtesy of [Tadhg Fitzgerald](https://www.kaggle.com/tadhgfitzgerald) \n",
    "> This one I used to get the FIFA ranking and points for the teams, which is a monthly changing rank previously shown as a [decent predictor](http://www.sportingintelligence.com/2014/06/20/upsets-giant-killings-adios-bye-bye-fifa-rankings-still-ahead-in-predicting-results-200601/) of team performance\n",
    "- International Soccer matches from 1872 to 2018 (courtesy of [Mart Jürisoo](https://www.kaggle.com/martj42))\n",
    "> This I will use to find out how much the difference in point, ranks and the current rank of the team affects the outocme of a match\n",
    "- FIFA World Cup 2018 data set (courtesy of [Nuggs](https://www.kaggle.com/ahmedelnaggar))\n",
    "> This I will use to get the upcoming matches \n",
    "\n",
    "Comment: Right when reading the datafiles I take care of the renaming of the Countries because there is some mismatch in the sources"
   ]
  },
  {
   "cell_type": "code",
   "execution_count": 1,
   "metadata": {
    "_cell_guid": "b1076dfc-b9ad-4769-8c92-a6c4dae69d19",
    "_uuid": "8f2839f25d086af736a60e9eeb907d3b93b6e0e5"
   },
   "outputs": [],
   "source": [
    "import numpy as np # linear algebra\n",
    "import pandas as pd # data processing, CSV file I/O (e.g. pd.read_csv)\n",
    "from matplotlib import pyplot as plt\n",
    "\n",
    "rankings = pd.read_csv('fifa_ranking.csv')\n",
    "rankings = rankings.loc[:,['rank', 'country_full', 'country_abrv', 'cur_year_avg_weighted', 'rank_date', \n",
    "                           'two_year_ago_weighted', 'three_year_ago_weighted']]\n",
    "rankings = rankings.replace({\"IR Iran\": \"Iran\"})\n",
    "rankings['weighted_points'] =  rankings['cur_year_avg_weighted'] + rankings['two_year_ago_weighted'] + rankings['three_year_ago_weighted']\n",
    "rankings['rank_date'] = pd.to_datetime(rankings['rank_date'])\n",
    "\n",
    "matches = pd.read_csv('results.csv')\n",
    "matches =  matches.replace({'Germany DR': 'Germany', 'China': 'China PR'})\n",
    "matches['date'] = pd.to_datetime(matches['date'])\n",
    "\n",
    "world_cup = pd.read_csv('World Cup 2018 Dataset.csv')\n",
    "world_cup = world_cup.loc[:, ['Team', 'Group', 'First match \\nagainst', 'Second match\\n against', 'Third match\\n against']]\n",
    "world_cup = world_cup.dropna(how='all')\n",
    "world_cup = world_cup.replace({\"IRAN\": \"Iran\", \n",
    "                               \"Costarica\": \"Costa Rica\", \n",
    "                               \"Porugal\": \"Portugal\", \n",
    "                               \"Columbia\": \"Colombia\", \n",
    "                               \"Korea\" : \"Korea Republic\"})\n",
    "world_cup = world_cup.set_index('Team')"
   ]
  },
  {
   "cell_type": "markdown",
   "metadata": {
    "_uuid": "a34c1cd5a26c1024b0638d2d93fc0c691b290024"
   },
   "source": [
    "# Feature extraction\n",
    "\n",
    "I join the matches with the ranks of the different teams. \n",
    "\n",
    "Then extract some features:\n",
    "- point and rank differences\n",
    "- if the game was for some stakes, because my naive view was that typically friendly matches are harder to predict (TODO differentiate the WC matches from the rest)\n",
    "- how many days the different teams were able to rest but this turned out to be not important enough to be worth the hassle\n",
    "- include the participant countries as a one hot vector but that did not appear to be a strong predictor either"
   ]
  },
  {
   "cell_type": "code",
   "execution_count": 2,
   "metadata": {
    "_uuid": "863552790217b049b611165e162ad3182f1692f9"
   },
   "outputs": [],
   "source": [
    "# I want to have the ranks for every day \n",
    "rankings = rankings.set_index(['rank_date'])\\\n",
    "            .groupby(['country_full'], group_keys=False)\\\n",
    "            .resample('D').first()\\\n",
    "            .fillna(method='ffill')\\\n",
    "            .reset_index()\n",
    "\n",
    "# join the ranks\n",
    "matches = matches.merge(rankings, \n",
    "                        left_on=['date', 'home_team'], \n",
    "                        right_on=['rank_date', 'country_full'])\n",
    "matches = matches.merge(rankings, \n",
    "                        left_on=['date', 'away_team'], \n",
    "                        right_on=['rank_date', 'country_full'], \n",
    "                        suffixes=('_home', '_away'))"
   ]
  },
  {
   "cell_type": "code",
   "execution_count": 3,
   "metadata": {
    "_uuid": "107fa4816e6db551811abd9fc784c34f1ad63682"
   },
   "outputs": [
    {
     "ename": "TypeError",
     "evalue": "unsupported operand type(s) for -: 'str' and 'str'",
     "output_type": "error",
     "traceback": [
      "\u001b[1;31m---------------------------------------------------------------------------\u001b[0m",
      "\u001b[1;31mTypeError\u001b[0m                                 Traceback (most recent call last)",
      "\u001b[1;32mD:\\Users\\abuba\\anaconda3\\lib\\site-packages\\pandas\\core\\groupby\\groupby.py\u001b[0m in \u001b[0;36mapply\u001b[1;34m(self, func, *args, **kwargs)\u001b[0m\n\u001b[0;32m    735\u001b[0m             \u001b[1;32mtry\u001b[0m\u001b[1;33m:\u001b[0m\u001b[1;33m\u001b[0m\u001b[1;33m\u001b[0m\u001b[0m\n\u001b[1;32m--> 736\u001b[1;33m                 \u001b[0mresult\u001b[0m \u001b[1;33m=\u001b[0m \u001b[0mself\u001b[0m\u001b[1;33m.\u001b[0m\u001b[0m_python_apply_general\u001b[0m\u001b[1;33m(\u001b[0m\u001b[0mf\u001b[0m\u001b[1;33m)\u001b[0m\u001b[1;33m\u001b[0m\u001b[1;33m\u001b[0m\u001b[0m\n\u001b[0m\u001b[0;32m    737\u001b[0m             \u001b[1;32mexcept\u001b[0m \u001b[0mTypeError\u001b[0m\u001b[1;33m:\u001b[0m\u001b[1;33m\u001b[0m\u001b[1;33m\u001b[0m\u001b[0m\n",
      "\u001b[1;32mD:\\Users\\abuba\\anaconda3\\lib\\site-packages\\pandas\\core\\groupby\\groupby.py\u001b[0m in \u001b[0;36m_python_apply_general\u001b[1;34m(self, f)\u001b[0m\n\u001b[0;32m    751\u001b[0m     \u001b[1;32mdef\u001b[0m \u001b[0m_python_apply_general\u001b[0m\u001b[1;33m(\u001b[0m\u001b[0mself\u001b[0m\u001b[1;33m,\u001b[0m \u001b[0mf\u001b[0m\u001b[1;33m)\u001b[0m\u001b[1;33m:\u001b[0m\u001b[1;33m\u001b[0m\u001b[1;33m\u001b[0m\u001b[0m\n\u001b[1;32m--> 752\u001b[1;33m         \u001b[0mkeys\u001b[0m\u001b[1;33m,\u001b[0m \u001b[0mvalues\u001b[0m\u001b[1;33m,\u001b[0m \u001b[0mmutated\u001b[0m \u001b[1;33m=\u001b[0m \u001b[0mself\u001b[0m\u001b[1;33m.\u001b[0m\u001b[0mgrouper\u001b[0m\u001b[1;33m.\u001b[0m\u001b[0mapply\u001b[0m\u001b[1;33m(\u001b[0m\u001b[0mf\u001b[0m\u001b[1;33m,\u001b[0m \u001b[0mself\u001b[0m\u001b[1;33m.\u001b[0m\u001b[0m_selected_obj\u001b[0m\u001b[1;33m,\u001b[0m \u001b[0mself\u001b[0m\u001b[1;33m.\u001b[0m\u001b[0maxis\u001b[0m\u001b[1;33m)\u001b[0m\u001b[1;33m\u001b[0m\u001b[1;33m\u001b[0m\u001b[0m\n\u001b[0m\u001b[0;32m    753\u001b[0m \u001b[1;33m\u001b[0m\u001b[0m\n",
      "\u001b[1;32mD:\\Users\\abuba\\anaconda3\\lib\\site-packages\\pandas\\core\\groupby\\ops.py\u001b[0m in \u001b[0;36mapply\u001b[1;34m(self, f, data, axis)\u001b[0m\n\u001b[0;32m    205\u001b[0m             \u001b[0mgroup_axes\u001b[0m \u001b[1;33m=\u001b[0m \u001b[0mgroup\u001b[0m\u001b[1;33m.\u001b[0m\u001b[0maxes\u001b[0m\u001b[1;33m\u001b[0m\u001b[1;33m\u001b[0m\u001b[0m\n\u001b[1;32m--> 206\u001b[1;33m             \u001b[0mres\u001b[0m \u001b[1;33m=\u001b[0m \u001b[0mf\u001b[0m\u001b[1;33m(\u001b[0m\u001b[0mgroup\u001b[0m\u001b[1;33m)\u001b[0m\u001b[1;33m\u001b[0m\u001b[1;33m\u001b[0m\u001b[0m\n\u001b[0m\u001b[0;32m    207\u001b[0m             \u001b[1;32mif\u001b[0m \u001b[1;32mnot\u001b[0m \u001b[0m_is_indexed_like\u001b[0m\u001b[1;33m(\u001b[0m\u001b[0mres\u001b[0m\u001b[1;33m,\u001b[0m \u001b[0mgroup_axes\u001b[0m\u001b[1;33m)\u001b[0m\u001b[1;33m:\u001b[0m\u001b[1;33m\u001b[0m\u001b[1;33m\u001b[0m\u001b[0m\n",
      "\u001b[1;32mD:\\Users\\abuba\\anaconda3\\lib\\site-packages\\pandas\\core\\groupby\\groupby.py\u001b[0m in \u001b[0;36mcurried\u001b[1;34m(x)\u001b[0m\n\u001b[0;32m    632\u001b[0m             \u001b[1;32mdef\u001b[0m \u001b[0mcurried\u001b[0m\u001b[1;33m(\u001b[0m\u001b[0mx\u001b[0m\u001b[1;33m)\u001b[0m\u001b[1;33m:\u001b[0m\u001b[1;33m\u001b[0m\u001b[1;33m\u001b[0m\u001b[0m\n\u001b[1;32m--> 633\u001b[1;33m                 \u001b[1;32mreturn\u001b[0m \u001b[0mf\u001b[0m\u001b[1;33m(\u001b[0m\u001b[0mx\u001b[0m\u001b[1;33m,\u001b[0m \u001b[1;33m*\u001b[0m\u001b[0margs\u001b[0m\u001b[1;33m,\u001b[0m \u001b[1;33m**\u001b[0m\u001b[0mkwargs\u001b[0m\u001b[1;33m)\u001b[0m\u001b[1;33m\u001b[0m\u001b[1;33m\u001b[0m\u001b[0m\n\u001b[0m\u001b[0;32m    634\u001b[0m \u001b[1;33m\u001b[0m\u001b[0m\n",
      "\u001b[1;32mD:\\Users\\abuba\\anaconda3\\lib\\site-packages\\pandas\\core\\frame.py\u001b[0m in \u001b[0;36mdiff\u001b[1;34m(self, periods, axis)\u001b[0m\n\u001b[0;32m   6602\u001b[0m         \u001b[0mbm_axis\u001b[0m \u001b[1;33m=\u001b[0m \u001b[0mself\u001b[0m\u001b[1;33m.\u001b[0m\u001b[0m_get_block_manager_axis\u001b[0m\u001b[1;33m(\u001b[0m\u001b[0maxis\u001b[0m\u001b[1;33m)\u001b[0m\u001b[1;33m\u001b[0m\u001b[1;33m\u001b[0m\u001b[0m\n\u001b[1;32m-> 6603\u001b[1;33m         \u001b[0mnew_data\u001b[0m \u001b[1;33m=\u001b[0m \u001b[0mself\u001b[0m\u001b[1;33m.\u001b[0m\u001b[0m_data\u001b[0m\u001b[1;33m.\u001b[0m\u001b[0mdiff\u001b[0m\u001b[1;33m(\u001b[0m\u001b[0mn\u001b[0m\u001b[1;33m=\u001b[0m\u001b[0mperiods\u001b[0m\u001b[1;33m,\u001b[0m \u001b[0maxis\u001b[0m\u001b[1;33m=\u001b[0m\u001b[0mbm_axis\u001b[0m\u001b[1;33m)\u001b[0m\u001b[1;33m\u001b[0m\u001b[1;33m\u001b[0m\u001b[0m\n\u001b[0m\u001b[0;32m   6604\u001b[0m         \u001b[1;32mreturn\u001b[0m \u001b[0mself\u001b[0m\u001b[1;33m.\u001b[0m\u001b[0m_constructor\u001b[0m\u001b[1;33m(\u001b[0m\u001b[0mnew_data\u001b[0m\u001b[1;33m)\u001b[0m\u001b[1;33m\u001b[0m\u001b[1;33m\u001b[0m\u001b[0m\n",
      "\u001b[1;32mD:\\Users\\abuba\\anaconda3\\lib\\site-packages\\pandas\\core\\internals\\managers.py\u001b[0m in \u001b[0;36mdiff\u001b[1;34m(self, **kwargs)\u001b[0m\n\u001b[0;32m    566\u001b[0m     \u001b[1;32mdef\u001b[0m \u001b[0mdiff\u001b[0m\u001b[1;33m(\u001b[0m\u001b[0mself\u001b[0m\u001b[1;33m,\u001b[0m \u001b[1;33m**\u001b[0m\u001b[0mkwargs\u001b[0m\u001b[1;33m)\u001b[0m\u001b[1;33m:\u001b[0m\u001b[1;33m\u001b[0m\u001b[1;33m\u001b[0m\u001b[0m\n\u001b[1;32m--> 567\u001b[1;33m         \u001b[1;32mreturn\u001b[0m \u001b[0mself\u001b[0m\u001b[1;33m.\u001b[0m\u001b[0mapply\u001b[0m\u001b[1;33m(\u001b[0m\u001b[1;34m\"diff\"\u001b[0m\u001b[1;33m,\u001b[0m \u001b[1;33m**\u001b[0m\u001b[0mkwargs\u001b[0m\u001b[1;33m)\u001b[0m\u001b[1;33m\u001b[0m\u001b[1;33m\u001b[0m\u001b[0m\n\u001b[0m\u001b[0;32m    568\u001b[0m \u001b[1;33m\u001b[0m\u001b[0m\n",
      "\u001b[1;32mD:\\Users\\abuba\\anaconda3\\lib\\site-packages\\pandas\\core\\internals\\managers.py\u001b[0m in \u001b[0;36mapply\u001b[1;34m(self, f, filter, **kwargs)\u001b[0m\n\u001b[0;32m    441\u001b[0m             \u001b[1;32melse\u001b[0m\u001b[1;33m:\u001b[0m\u001b[1;33m\u001b[0m\u001b[1;33m\u001b[0m\u001b[0m\n\u001b[1;32m--> 442\u001b[1;33m                 \u001b[0mapplied\u001b[0m \u001b[1;33m=\u001b[0m \u001b[0mgetattr\u001b[0m\u001b[1;33m(\u001b[0m\u001b[0mb\u001b[0m\u001b[1;33m,\u001b[0m \u001b[0mf\u001b[0m\u001b[1;33m)\u001b[0m\u001b[1;33m(\u001b[0m\u001b[1;33m**\u001b[0m\u001b[0mkwargs\u001b[0m\u001b[1;33m)\u001b[0m\u001b[1;33m\u001b[0m\u001b[1;33m\u001b[0m\u001b[0m\n\u001b[0m\u001b[0;32m    443\u001b[0m             \u001b[0mresult_blocks\u001b[0m \u001b[1;33m=\u001b[0m \u001b[0m_extend_blocks\u001b[0m\u001b[1;33m(\u001b[0m\u001b[0mapplied\u001b[0m\u001b[1;33m,\u001b[0m \u001b[0mresult_blocks\u001b[0m\u001b[1;33m)\u001b[0m\u001b[1;33m\u001b[0m\u001b[1;33m\u001b[0m\u001b[0m\n",
      "\u001b[1;32mD:\\Users\\abuba\\anaconda3\\lib\\site-packages\\pandas\\core\\internals\\blocks.py\u001b[0m in \u001b[0;36mdiff\u001b[1;34m(self, n, axis)\u001b[0m\n\u001b[0;32m   1312\u001b[0m         \u001b[1;34m\"\"\" return block for the diff of the values \"\"\"\u001b[0m\u001b[1;33m\u001b[0m\u001b[1;33m\u001b[0m\u001b[0m\n\u001b[1;32m-> 1313\u001b[1;33m         \u001b[0mnew_values\u001b[0m \u001b[1;33m=\u001b[0m \u001b[0malgos\u001b[0m\u001b[1;33m.\u001b[0m\u001b[0mdiff\u001b[0m\u001b[1;33m(\u001b[0m\u001b[0mself\u001b[0m\u001b[1;33m.\u001b[0m\u001b[0mvalues\u001b[0m\u001b[1;33m,\u001b[0m \u001b[0mn\u001b[0m\u001b[1;33m,\u001b[0m \u001b[0maxis\u001b[0m\u001b[1;33m=\u001b[0m\u001b[0maxis\u001b[0m\u001b[1;33m,\u001b[0m \u001b[0mstacklevel\u001b[0m\u001b[1;33m=\u001b[0m\u001b[1;36m7\u001b[0m\u001b[1;33m)\u001b[0m\u001b[1;33m\u001b[0m\u001b[1;33m\u001b[0m\u001b[0m\n\u001b[0m\u001b[0;32m   1314\u001b[0m         \u001b[1;31m# We use block_shape for ExtensionBlock subclasses, which may call here\u001b[0m\u001b[1;33m\u001b[0m\u001b[1;33m\u001b[0m\u001b[1;33m\u001b[0m\u001b[0m\n",
      "\u001b[1;32mD:\\Users\\abuba\\anaconda3\\lib\\site-packages\\pandas\\core\\algorithms.py\u001b[0m in \u001b[0;36mdiff\u001b[1;34m(arr, n, axis, stacklevel)\u001b[0m\n\u001b[0;32m   1925\u001b[0m         \u001b[1;32melse\u001b[0m\u001b[1;33m:\u001b[0m\u001b[1;33m\u001b[0m\u001b[1;33m\u001b[0m\u001b[0m\n\u001b[1;32m-> 1926\u001b[1;33m             \u001b[0mout_arr\u001b[0m\u001b[1;33m[\u001b[0m\u001b[0mres_indexer\u001b[0m\u001b[1;33m]\u001b[0m \u001b[1;33m=\u001b[0m \u001b[0marr\u001b[0m\u001b[1;33m[\u001b[0m\u001b[0mres_indexer\u001b[0m\u001b[1;33m]\u001b[0m \u001b[1;33m-\u001b[0m \u001b[0marr\u001b[0m\u001b[1;33m[\u001b[0m\u001b[0mlag_indexer\u001b[0m\u001b[1;33m]\u001b[0m\u001b[1;33m\u001b[0m\u001b[1;33m\u001b[0m\u001b[0m\n\u001b[0m\u001b[0;32m   1927\u001b[0m \u001b[1;33m\u001b[0m\u001b[0m\n",
      "\u001b[1;31mTypeError\u001b[0m: unsupported operand type(s) for -: 'str' and 'str'",
      "\nDuring handling of the above exception, another exception occurred:\n",
      "\u001b[1;31mTypeError\u001b[0m                                 Traceback (most recent call last)",
      "\u001b[1;32m<ipython-input-3-08a35f44a4f8>\u001b[0m in \u001b[0;36m<module>\u001b[1;34m\u001b[0m\n\u001b[0;32m      9\u001b[0m \u001b[1;31m# I tried earlier rest days but it did not turn to be useful\u001b[0m\u001b[1;33m\u001b[0m\u001b[1;33m\u001b[0m\u001b[1;33m\u001b[0m\u001b[0m\n\u001b[0;32m     10\u001b[0m \u001b[0mmax_rest\u001b[0m \u001b[1;33m=\u001b[0m \u001b[1;36m30\u001b[0m\u001b[1;33m\u001b[0m\u001b[1;33m\u001b[0m\u001b[0m\n\u001b[1;32m---> 11\u001b[1;33m \u001b[0mmatches\u001b[0m\u001b[1;33m[\u001b[0m\u001b[1;34m'rest_days'\u001b[0m\u001b[1;33m]\u001b[0m \u001b[1;33m=\u001b[0m \u001b[0mmatches\u001b[0m\u001b[1;33m.\u001b[0m\u001b[0mgroupby\u001b[0m\u001b[1;33m(\u001b[0m\u001b[1;34m'home_team'\u001b[0m\u001b[1;33m)\u001b[0m\u001b[1;33m.\u001b[0m\u001b[0mdiff\u001b[0m\u001b[1;33m(\u001b[0m\u001b[1;33m)\u001b[0m\u001b[1;33m[\u001b[0m\u001b[1;34m'date'\u001b[0m\u001b[1;33m]\u001b[0m\u001b[1;33m.\u001b[0m\u001b[0mdt\u001b[0m\u001b[1;33m.\u001b[0m\u001b[0mdays\u001b[0m\u001b[1;33m.\u001b[0m\u001b[0mclip\u001b[0m\u001b[1;33m(\u001b[0m\u001b[1;36m0\u001b[0m\u001b[1;33m,\u001b[0m\u001b[0mmax_rest\u001b[0m\u001b[1;33m)\u001b[0m\u001b[1;33m.\u001b[0m\u001b[0mfillna\u001b[0m\u001b[1;33m(\u001b[0m\u001b[0mmax_rest\u001b[0m\u001b[1;33m)\u001b[0m\u001b[1;33m\u001b[0m\u001b[1;33m\u001b[0m\u001b[0m\n\u001b[0m\u001b[0;32m     12\u001b[0m \u001b[1;33m\u001b[0m\u001b[0m\n\u001b[0;32m     13\u001b[0m \u001b[1;31m# I tried earlier the team as well but that did not make a difference either\u001b[0m\u001b[1;33m\u001b[0m\u001b[1;33m\u001b[0m\u001b[1;33m\u001b[0m\u001b[0m\n",
      "\u001b[1;32mD:\\Users\\abuba\\anaconda3\\lib\\site-packages\\pandas\\core\\groupby\\groupby.py\u001b[0m in \u001b[0;36mwrapper\u001b[1;34m(*args, **kwargs)\u001b[0m\n\u001b[0;32m    643\u001b[0m \u001b[1;33m\u001b[0m\u001b[0m\n\u001b[0;32m    644\u001b[0m             \u001b[1;32mtry\u001b[0m\u001b[1;33m:\u001b[0m\u001b[1;33m\u001b[0m\u001b[1;33m\u001b[0m\u001b[0m\n\u001b[1;32m--> 645\u001b[1;33m                 \u001b[1;32mreturn\u001b[0m \u001b[0mself\u001b[0m\u001b[1;33m.\u001b[0m\u001b[0mapply\u001b[0m\u001b[1;33m(\u001b[0m\u001b[0mcurried\u001b[0m\u001b[1;33m)\u001b[0m\u001b[1;33m\u001b[0m\u001b[1;33m\u001b[0m\u001b[0m\n\u001b[0m\u001b[0;32m    646\u001b[0m             \u001b[1;32mexcept\u001b[0m \u001b[0mTypeError\u001b[0m \u001b[1;32mas\u001b[0m \u001b[0merr\u001b[0m\u001b[1;33m:\u001b[0m\u001b[1;33m\u001b[0m\u001b[1;33m\u001b[0m\u001b[0m\n\u001b[0;32m    647\u001b[0m                 if not re.search(\n",
      "\u001b[1;32mD:\\Users\\abuba\\anaconda3\\lib\\site-packages\\pandas\\core\\groupby\\groupby.py\u001b[0m in \u001b[0;36mapply\u001b[1;34m(self, func, *args, **kwargs)\u001b[0m\n\u001b[0;32m    745\u001b[0m \u001b[1;33m\u001b[0m\u001b[0m\n\u001b[0;32m    746\u001b[0m                 \u001b[1;32mwith\u001b[0m \u001b[0m_group_selection_context\u001b[0m\u001b[1;33m(\u001b[0m\u001b[0mself\u001b[0m\u001b[1;33m)\u001b[0m\u001b[1;33m:\u001b[0m\u001b[1;33m\u001b[0m\u001b[1;33m\u001b[0m\u001b[0m\n\u001b[1;32m--> 747\u001b[1;33m                     \u001b[1;32mreturn\u001b[0m \u001b[0mself\u001b[0m\u001b[1;33m.\u001b[0m\u001b[0m_python_apply_general\u001b[0m\u001b[1;33m(\u001b[0m\u001b[0mf\u001b[0m\u001b[1;33m)\u001b[0m\u001b[1;33m\u001b[0m\u001b[1;33m\u001b[0m\u001b[0m\n\u001b[0m\u001b[0;32m    748\u001b[0m \u001b[1;33m\u001b[0m\u001b[0m\n\u001b[0;32m    749\u001b[0m         \u001b[1;32mreturn\u001b[0m \u001b[0mresult\u001b[0m\u001b[1;33m\u001b[0m\u001b[1;33m\u001b[0m\u001b[0m\n",
      "\u001b[1;32mD:\\Users\\abuba\\anaconda3\\lib\\site-packages\\pandas\\core\\groupby\\groupby.py\u001b[0m in \u001b[0;36m_python_apply_general\u001b[1;34m(self, f)\u001b[0m\n\u001b[0;32m    750\u001b[0m \u001b[1;33m\u001b[0m\u001b[0m\n\u001b[0;32m    751\u001b[0m     \u001b[1;32mdef\u001b[0m \u001b[0m_python_apply_general\u001b[0m\u001b[1;33m(\u001b[0m\u001b[0mself\u001b[0m\u001b[1;33m,\u001b[0m \u001b[0mf\u001b[0m\u001b[1;33m)\u001b[0m\u001b[1;33m:\u001b[0m\u001b[1;33m\u001b[0m\u001b[1;33m\u001b[0m\u001b[0m\n\u001b[1;32m--> 752\u001b[1;33m         \u001b[0mkeys\u001b[0m\u001b[1;33m,\u001b[0m \u001b[0mvalues\u001b[0m\u001b[1;33m,\u001b[0m \u001b[0mmutated\u001b[0m \u001b[1;33m=\u001b[0m \u001b[0mself\u001b[0m\u001b[1;33m.\u001b[0m\u001b[0mgrouper\u001b[0m\u001b[1;33m.\u001b[0m\u001b[0mapply\u001b[0m\u001b[1;33m(\u001b[0m\u001b[0mf\u001b[0m\u001b[1;33m,\u001b[0m \u001b[0mself\u001b[0m\u001b[1;33m.\u001b[0m\u001b[0m_selected_obj\u001b[0m\u001b[1;33m,\u001b[0m \u001b[0mself\u001b[0m\u001b[1;33m.\u001b[0m\u001b[0maxis\u001b[0m\u001b[1;33m)\u001b[0m\u001b[1;33m\u001b[0m\u001b[1;33m\u001b[0m\u001b[0m\n\u001b[0m\u001b[0;32m    753\u001b[0m \u001b[1;33m\u001b[0m\u001b[0m\n\u001b[0;32m    754\u001b[0m         return self._wrap_applied_output(\n",
      "\u001b[1;32mD:\\Users\\abuba\\anaconda3\\lib\\site-packages\\pandas\\core\\groupby\\ops.py\u001b[0m in \u001b[0;36mapply\u001b[1;34m(self, f, data, axis)\u001b[0m\n\u001b[0;32m    204\u001b[0m             \u001b[1;31m# group might be modified\u001b[0m\u001b[1;33m\u001b[0m\u001b[1;33m\u001b[0m\u001b[1;33m\u001b[0m\u001b[0m\n\u001b[0;32m    205\u001b[0m             \u001b[0mgroup_axes\u001b[0m \u001b[1;33m=\u001b[0m \u001b[0mgroup\u001b[0m\u001b[1;33m.\u001b[0m\u001b[0maxes\u001b[0m\u001b[1;33m\u001b[0m\u001b[1;33m\u001b[0m\u001b[0m\n\u001b[1;32m--> 206\u001b[1;33m             \u001b[0mres\u001b[0m \u001b[1;33m=\u001b[0m \u001b[0mf\u001b[0m\u001b[1;33m(\u001b[0m\u001b[0mgroup\u001b[0m\u001b[1;33m)\u001b[0m\u001b[1;33m\u001b[0m\u001b[1;33m\u001b[0m\u001b[0m\n\u001b[0m\u001b[0;32m    207\u001b[0m             \u001b[1;32mif\u001b[0m \u001b[1;32mnot\u001b[0m \u001b[0m_is_indexed_like\u001b[0m\u001b[1;33m(\u001b[0m\u001b[0mres\u001b[0m\u001b[1;33m,\u001b[0m \u001b[0mgroup_axes\u001b[0m\u001b[1;33m)\u001b[0m\u001b[1;33m:\u001b[0m\u001b[1;33m\u001b[0m\u001b[1;33m\u001b[0m\u001b[0m\n\u001b[0;32m    208\u001b[0m                 \u001b[0mmutated\u001b[0m \u001b[1;33m=\u001b[0m \u001b[1;32mTrue\u001b[0m\u001b[1;33m\u001b[0m\u001b[1;33m\u001b[0m\u001b[0m\n",
      "\u001b[1;32mD:\\Users\\abuba\\anaconda3\\lib\\site-packages\\pandas\\core\\groupby\\groupby.py\u001b[0m in \u001b[0;36mcurried\u001b[1;34m(x)\u001b[0m\n\u001b[0;32m    631\u001b[0m \u001b[1;33m\u001b[0m\u001b[0m\n\u001b[0;32m    632\u001b[0m             \u001b[1;32mdef\u001b[0m \u001b[0mcurried\u001b[0m\u001b[1;33m(\u001b[0m\u001b[0mx\u001b[0m\u001b[1;33m)\u001b[0m\u001b[1;33m:\u001b[0m\u001b[1;33m\u001b[0m\u001b[1;33m\u001b[0m\u001b[0m\n\u001b[1;32m--> 633\u001b[1;33m                 \u001b[1;32mreturn\u001b[0m \u001b[0mf\u001b[0m\u001b[1;33m(\u001b[0m\u001b[0mx\u001b[0m\u001b[1;33m,\u001b[0m \u001b[1;33m*\u001b[0m\u001b[0margs\u001b[0m\u001b[1;33m,\u001b[0m \u001b[1;33m**\u001b[0m\u001b[0mkwargs\u001b[0m\u001b[1;33m)\u001b[0m\u001b[1;33m\u001b[0m\u001b[1;33m\u001b[0m\u001b[0m\n\u001b[0m\u001b[0;32m    634\u001b[0m \u001b[1;33m\u001b[0m\u001b[0m\n\u001b[0;32m    635\u001b[0m             \u001b[1;31m# preserve the name so we can detect it when calling plot methods,\u001b[0m\u001b[1;33m\u001b[0m\u001b[1;33m\u001b[0m\u001b[1;33m\u001b[0m\u001b[0m\n",
      "\u001b[1;32mD:\\Users\\abuba\\anaconda3\\lib\\site-packages\\pandas\\core\\frame.py\u001b[0m in \u001b[0;36mdiff\u001b[1;34m(self, periods, axis)\u001b[0m\n\u001b[0;32m   6601\u001b[0m         \"\"\"\n\u001b[0;32m   6602\u001b[0m         \u001b[0mbm_axis\u001b[0m \u001b[1;33m=\u001b[0m \u001b[0mself\u001b[0m\u001b[1;33m.\u001b[0m\u001b[0m_get_block_manager_axis\u001b[0m\u001b[1;33m(\u001b[0m\u001b[0maxis\u001b[0m\u001b[1;33m)\u001b[0m\u001b[1;33m\u001b[0m\u001b[1;33m\u001b[0m\u001b[0m\n\u001b[1;32m-> 6603\u001b[1;33m         \u001b[0mnew_data\u001b[0m \u001b[1;33m=\u001b[0m \u001b[0mself\u001b[0m\u001b[1;33m.\u001b[0m\u001b[0m_data\u001b[0m\u001b[1;33m.\u001b[0m\u001b[0mdiff\u001b[0m\u001b[1;33m(\u001b[0m\u001b[0mn\u001b[0m\u001b[1;33m=\u001b[0m\u001b[0mperiods\u001b[0m\u001b[1;33m,\u001b[0m \u001b[0maxis\u001b[0m\u001b[1;33m=\u001b[0m\u001b[0mbm_axis\u001b[0m\u001b[1;33m)\u001b[0m\u001b[1;33m\u001b[0m\u001b[1;33m\u001b[0m\u001b[0m\n\u001b[0m\u001b[0;32m   6604\u001b[0m         \u001b[1;32mreturn\u001b[0m \u001b[0mself\u001b[0m\u001b[1;33m.\u001b[0m\u001b[0m_constructor\u001b[0m\u001b[1;33m(\u001b[0m\u001b[0mnew_data\u001b[0m\u001b[1;33m)\u001b[0m\u001b[1;33m\u001b[0m\u001b[1;33m\u001b[0m\u001b[0m\n\u001b[0;32m   6605\u001b[0m \u001b[1;33m\u001b[0m\u001b[0m\n",
      "\u001b[1;32mD:\\Users\\abuba\\anaconda3\\lib\\site-packages\\pandas\\core\\internals\\managers.py\u001b[0m in \u001b[0;36mdiff\u001b[1;34m(self, **kwargs)\u001b[0m\n\u001b[0;32m    565\u001b[0m \u001b[1;33m\u001b[0m\u001b[0m\n\u001b[0;32m    566\u001b[0m     \u001b[1;32mdef\u001b[0m \u001b[0mdiff\u001b[0m\u001b[1;33m(\u001b[0m\u001b[0mself\u001b[0m\u001b[1;33m,\u001b[0m \u001b[1;33m**\u001b[0m\u001b[0mkwargs\u001b[0m\u001b[1;33m)\u001b[0m\u001b[1;33m:\u001b[0m\u001b[1;33m\u001b[0m\u001b[1;33m\u001b[0m\u001b[0m\n\u001b[1;32m--> 567\u001b[1;33m         \u001b[1;32mreturn\u001b[0m \u001b[0mself\u001b[0m\u001b[1;33m.\u001b[0m\u001b[0mapply\u001b[0m\u001b[1;33m(\u001b[0m\u001b[1;34m\"diff\"\u001b[0m\u001b[1;33m,\u001b[0m \u001b[1;33m**\u001b[0m\u001b[0mkwargs\u001b[0m\u001b[1;33m)\u001b[0m\u001b[1;33m\u001b[0m\u001b[1;33m\u001b[0m\u001b[0m\n\u001b[0m\u001b[0;32m    568\u001b[0m \u001b[1;33m\u001b[0m\u001b[0m\n\u001b[0;32m    569\u001b[0m     \u001b[1;32mdef\u001b[0m \u001b[0minterpolate\u001b[0m\u001b[1;33m(\u001b[0m\u001b[0mself\u001b[0m\u001b[1;33m,\u001b[0m \u001b[1;33m**\u001b[0m\u001b[0mkwargs\u001b[0m\u001b[1;33m)\u001b[0m\u001b[1;33m:\u001b[0m\u001b[1;33m\u001b[0m\u001b[1;33m\u001b[0m\u001b[0m\n",
      "\u001b[1;32mD:\\Users\\abuba\\anaconda3\\lib\\site-packages\\pandas\\core\\internals\\managers.py\u001b[0m in \u001b[0;36mapply\u001b[1;34m(self, f, filter, **kwargs)\u001b[0m\n\u001b[0;32m    440\u001b[0m                 \u001b[0mapplied\u001b[0m \u001b[1;33m=\u001b[0m \u001b[0mb\u001b[0m\u001b[1;33m.\u001b[0m\u001b[0mapply\u001b[0m\u001b[1;33m(\u001b[0m\u001b[0mf\u001b[0m\u001b[1;33m,\u001b[0m \u001b[1;33m**\u001b[0m\u001b[0mkwargs\u001b[0m\u001b[1;33m)\u001b[0m\u001b[1;33m\u001b[0m\u001b[1;33m\u001b[0m\u001b[0m\n\u001b[0;32m    441\u001b[0m             \u001b[1;32melse\u001b[0m\u001b[1;33m:\u001b[0m\u001b[1;33m\u001b[0m\u001b[1;33m\u001b[0m\u001b[0m\n\u001b[1;32m--> 442\u001b[1;33m                 \u001b[0mapplied\u001b[0m \u001b[1;33m=\u001b[0m \u001b[0mgetattr\u001b[0m\u001b[1;33m(\u001b[0m\u001b[0mb\u001b[0m\u001b[1;33m,\u001b[0m \u001b[0mf\u001b[0m\u001b[1;33m)\u001b[0m\u001b[1;33m(\u001b[0m\u001b[1;33m**\u001b[0m\u001b[0mkwargs\u001b[0m\u001b[1;33m)\u001b[0m\u001b[1;33m\u001b[0m\u001b[1;33m\u001b[0m\u001b[0m\n\u001b[0m\u001b[0;32m    443\u001b[0m             \u001b[0mresult_blocks\u001b[0m \u001b[1;33m=\u001b[0m \u001b[0m_extend_blocks\u001b[0m\u001b[1;33m(\u001b[0m\u001b[0mapplied\u001b[0m\u001b[1;33m,\u001b[0m \u001b[0mresult_blocks\u001b[0m\u001b[1;33m)\u001b[0m\u001b[1;33m\u001b[0m\u001b[1;33m\u001b[0m\u001b[0m\n\u001b[0;32m    444\u001b[0m \u001b[1;33m\u001b[0m\u001b[0m\n",
      "\u001b[1;32mD:\\Users\\abuba\\anaconda3\\lib\\site-packages\\pandas\\core\\internals\\blocks.py\u001b[0m in \u001b[0;36mdiff\u001b[1;34m(self, n, axis)\u001b[0m\n\u001b[0;32m   1311\u001b[0m     \u001b[1;32mdef\u001b[0m \u001b[0mdiff\u001b[0m\u001b[1;33m(\u001b[0m\u001b[0mself\u001b[0m\u001b[1;33m,\u001b[0m \u001b[0mn\u001b[0m\u001b[1;33m:\u001b[0m \u001b[0mint\u001b[0m\u001b[1;33m,\u001b[0m \u001b[0maxis\u001b[0m\u001b[1;33m:\u001b[0m \u001b[0mint\u001b[0m \u001b[1;33m=\u001b[0m \u001b[1;36m1\u001b[0m\u001b[1;33m)\u001b[0m \u001b[1;33m->\u001b[0m \u001b[0mList\u001b[0m\u001b[1;33m[\u001b[0m\u001b[1;34m\"Block\"\u001b[0m\u001b[1;33m]\u001b[0m\u001b[1;33m:\u001b[0m\u001b[1;33m\u001b[0m\u001b[1;33m\u001b[0m\u001b[0m\n\u001b[0;32m   1312\u001b[0m         \u001b[1;34m\"\"\" return block for the diff of the values \"\"\"\u001b[0m\u001b[1;33m\u001b[0m\u001b[1;33m\u001b[0m\u001b[0m\n\u001b[1;32m-> 1313\u001b[1;33m         \u001b[0mnew_values\u001b[0m \u001b[1;33m=\u001b[0m \u001b[0malgos\u001b[0m\u001b[1;33m.\u001b[0m\u001b[0mdiff\u001b[0m\u001b[1;33m(\u001b[0m\u001b[0mself\u001b[0m\u001b[1;33m.\u001b[0m\u001b[0mvalues\u001b[0m\u001b[1;33m,\u001b[0m \u001b[0mn\u001b[0m\u001b[1;33m,\u001b[0m \u001b[0maxis\u001b[0m\u001b[1;33m=\u001b[0m\u001b[0maxis\u001b[0m\u001b[1;33m,\u001b[0m \u001b[0mstacklevel\u001b[0m\u001b[1;33m=\u001b[0m\u001b[1;36m7\u001b[0m\u001b[1;33m)\u001b[0m\u001b[1;33m\u001b[0m\u001b[1;33m\u001b[0m\u001b[0m\n\u001b[0m\u001b[0;32m   1314\u001b[0m         \u001b[1;31m# We use block_shape for ExtensionBlock subclasses, which may call here\u001b[0m\u001b[1;33m\u001b[0m\u001b[1;33m\u001b[0m\u001b[1;33m\u001b[0m\u001b[0m\n\u001b[0;32m   1315\u001b[0m         \u001b[1;31m# via a super.\u001b[0m\u001b[1;33m\u001b[0m\u001b[1;33m\u001b[0m\u001b[1;33m\u001b[0m\u001b[0m\n",
      "\u001b[1;32mD:\\Users\\abuba\\anaconda3\\lib\\site-packages\\pandas\\core\\algorithms.py\u001b[0m in \u001b[0;36mdiff\u001b[1;34m(arr, n, axis, stacklevel)\u001b[0m\n\u001b[0;32m   1924\u001b[0m             \u001b[0mout_arr\u001b[0m\u001b[1;33m[\u001b[0m\u001b[0mres_indexer\u001b[0m\u001b[1;33m]\u001b[0m \u001b[1;33m=\u001b[0m \u001b[0marr\u001b[0m\u001b[1;33m[\u001b[0m\u001b[0mres_indexer\u001b[0m\u001b[1;33m]\u001b[0m \u001b[1;33m^\u001b[0m \u001b[0marr\u001b[0m\u001b[1;33m[\u001b[0m\u001b[0mlag_indexer\u001b[0m\u001b[1;33m]\u001b[0m\u001b[1;33m\u001b[0m\u001b[1;33m\u001b[0m\u001b[0m\n\u001b[0;32m   1925\u001b[0m         \u001b[1;32melse\u001b[0m\u001b[1;33m:\u001b[0m\u001b[1;33m\u001b[0m\u001b[1;33m\u001b[0m\u001b[0m\n\u001b[1;32m-> 1926\u001b[1;33m             \u001b[0mout_arr\u001b[0m\u001b[1;33m[\u001b[0m\u001b[0mres_indexer\u001b[0m\u001b[1;33m]\u001b[0m \u001b[1;33m=\u001b[0m \u001b[0marr\u001b[0m\u001b[1;33m[\u001b[0m\u001b[0mres_indexer\u001b[0m\u001b[1;33m]\u001b[0m \u001b[1;33m-\u001b[0m \u001b[0marr\u001b[0m\u001b[1;33m[\u001b[0m\u001b[0mlag_indexer\u001b[0m\u001b[1;33m]\u001b[0m\u001b[1;33m\u001b[0m\u001b[1;33m\u001b[0m\u001b[0m\n\u001b[0m\u001b[0;32m   1927\u001b[0m \u001b[1;33m\u001b[0m\u001b[0m\n\u001b[0;32m   1928\u001b[0m     \u001b[1;32mif\u001b[0m \u001b[0mis_timedelta\u001b[0m\u001b[1;33m:\u001b[0m\u001b[1;33m\u001b[0m\u001b[1;33m\u001b[0m\u001b[0m\n",
      "\u001b[1;31mTypeError\u001b[0m: unsupported operand type(s) for -: 'str' and 'str'"
     ]
    }
   ],
   "source": [
    "# feature generation\n",
    "matches['rank_difference'] = matches['rank_home'] - matches['rank_away']\n",
    "matches['average_rank'] = (matches['rank_home'] + matches['rank_away'])/2\n",
    "matches['point_difference'] = matches['weighted_points_home'] - matches['weighted_points_away']\n",
    "matches['score_difference'] = matches['home_score'] - matches['away_score']\n",
    "matches['is_won'] = matches['score_difference'] > 0 # take draw as lost\n",
    "matches['is_stake'] = matches['tournament'] != 'Friendly'\n",
    "\n",
    "# I tried earlier rest days but it did not turn to be useful\n",
    "max_rest = 30\n",
    "matches['rest_days'] = matches.groupby('home_team').diff()['date'].dt.days.clip(0,max_rest).fillna(max_rest)\n",
    "\n",
    "# I tried earlier the team as well but that did not make a difference either\n",
    "matches['wc_participant'] = matches['home_team'] * matches['home_team'].isin(world_cup.index.tolist())\n",
    "matches['wc_participant'] = matches['wc_participant'].replace({'':'Other'})\n",
    "matches = matches.join(pd.get_dummies(matches['wc_participant']))"
   ]
  },
  {
   "cell_type": "markdown",
   "metadata": {
    "_uuid": "f67d4cba7bc60580490e00507a0811803e12a6e6"
   },
   "source": [
    "# Modeling\n",
    "\n",
    "I used a simple Logistic regression, which yielded already rather good performance"
   ]
  },
  {
   "cell_type": "code",
   "execution_count": 8,
   "metadata": {
    "_uuid": "78e3186d0e783cf2a4cb1a141a8d0ffe9f2b59ba"
   },
   "outputs": [
    {
     "name": "stderr",
     "output_type": "stream",
     "text": [
      "D:\\Users\\abuba\\anaconda3\\lib\\site-packages\\sklearn\\linear_model\\_logistic.py:762: ConvergenceWarning: lbfgs failed to converge (status=1):\n",
      "STOP: TOTAL NO. of ITERATIONS REACHED LIMIT.\n",
      "\n",
      "Increase the number of iterations (max_iter) or scale the data as shown in:\n",
      "    https://scikit-learn.org/stable/modules/preprocessing.html\n",
      "Please also refer to the documentation for alternative solver options:\n",
      "    https://scikit-learn.org/stable/modules/linear_model.html#logistic-regression\n",
      "  n_iter_i = _check_optimize_result(\n"
     ]
    },
    {
     "name": "stdout",
     "output_type": "stream",
     "text": [
      "[[1280  585]\n",
      " [ 577 1108]]\n"
     ]
    },
    {
     "data": {
      "image/png": "[encoded data removed]",
      "text/plain": [
       "<Figure size 1080x360 with 3 Axes>"
      ]
     },
     "metadata": {
      "needs_background": "light"
     },
     "output_type": "display_data"
    }
   ],
   "source": [
    "from sklearn import linear_model\n",
    "from sklearn import ensemble\n",
    "from sklearn.model_selection import train_test_split\n",
    "from sklearn.metrics import confusion_matrix, roc_curve, roc_auc_score\n",
    "from sklearn.pipeline import Pipeline\n",
    "from sklearn.preprocessing import PolynomialFeatures\n",
    "\n",
    "X, y = matches.loc[:,['average_rank', 'rank_difference', 'point_difference', 'is_stake']], matches['is_won']\n",
    "X_train, X_test, y_train, y_test = train_test_split(\n",
    "    X, y, test_size=0.2, random_state=42)\n",
    "\n",
    "logreg = linear_model.LogisticRegression(C=1e-5)\n",
    "features = PolynomialFeatures(degree=2)\n",
    "model = Pipeline([\n",
    "    ('polynomial_features', features),\n",
    "    ('logistic_regression', logreg)\n",
    "])\n",
    "model = model.fit(X_train, y_train)\n",
    "\n",
    "# figures \n",
    "fpr, tpr, _ = roc_curve(y_test, model.predict_proba(X_test)[:,1])\n",
    "plt.figure(figsize=(15,5))\n",
    "ax = plt.subplot(1,3,1)\n",
    "ax.plot([0, 1], [0, 1], 'k--')\n",
    "ax.plot(fpr, tpr)\n",
    "ax.set_title('AUC score is {0:0.2}'.format(roc_auc_score(y_test, model.predict_proba(X_test)[:,1])))\n",
    "ax.set_aspect(1)\n",
    "\n",
    "ax = plt.subplot(1,3,2)\n",
    "cm = confusion_matrix(y_test, model.predict(X_test))\n",
    "print(cm)\n",
    "ax.imshow(cm, cmap='Blues', clim = (0, cm.max())) \n",
    "\n",
    "ax.set_xlabel('Predicted label')\n",
    "ax.set_title('Performance on the Test set')\n",
    "\n",
    "ax = plt.subplot(1,3,3)\n",
    "cm = confusion_matrix(y_train, model.predict(X_train))\n",
    "ax.imshow(cm, cmap='Blues', clim = (0, cm.max())) \n",
    "ax.set_xlabel('Predicted label')\n",
    "ax.set_title('Performance on the Training set')\n",
    "pass"
   ]
  },
  {
   "cell_type": "markdown",
   "metadata": {
    "_uuid": "4df844d3dda19501acb22ca095f100eed9787263"
   },
   "source": [
    "I consider this pretty good performance, minding that soccer matches have typically only few goals scored and therefore making their outcome even more unpredictable. Nevertheless, let's look at the bad predictions and see where we are making mistakes more often."
   ]
  },
  {
   "cell_type": "code",
   "execution_count": 5,
   "metadata": {
    "_uuid": "f6550496a065d29bade0adbbb5c7662fd7c7fc40"
   },
   "outputs": [
    {
     "name": "stdout",
     "output_type": "stream",
     "text": [
      "Stakes distribution in the wrong predictions\n",
      "True     0.576592\n",
      "False    0.423408\n",
      "Name: is_stake, dtype: float64\n",
      "Stakes distribution overall\n",
      "True     0.622366\n",
      "False    0.377634\n",
      "Name: is_stake, dtype: float64\n"
     ]
    },
    {
     "data": {
      "image/png": "[encoded data removed]",
      "text/plain": [
       "<Figure size 432x288 with 1 Axes>"
      ]
     },
     "metadata": {
      "needs_background": "light"
     },
     "output_type": "display_data"
    },
    {
     "data": {
      "image/png": "[encoded data removed]",
      "text/plain": [
       "<Figure size 432x288 with 1 Axes>"
      ]
     },
     "metadata": {
      "needs_background": "light"
     },
     "output_type": "display_data"
    },
    {
     "data": {
      "image/png": "[encoded data removed]",
      "text/plain": [
       "<Figure size 432x288 with 1 Axes>"
      ]
     },
     "metadata": {
      "needs_background": "light"
     },
     "output_type": "display_data"
    }
   ],
   "source": [
    "features = ['average_rank', 'rank_difference', 'point_difference']\n",
    "wrongs = y_test != model.predict(X_test)\n",
    "\n",
    "for feature in features:\n",
    "    plt.figure()\n",
    "    plt.title(feature)\n",
    "    X_test.loc[wrongs, feature].plot.kde()\n",
    "    X.loc[:, feature].plot.kde()\n",
    "    plt.legend(['wrongs', 'all'])\n",
    "    \n",
    "print(\"Stakes distribution in the wrong predictions\")\n",
    "print(X_test.loc[wrongs, 'is_stake'].value_counts() / wrongs.sum())\n",
    "print(\"Stakes distribution overall\")\n",
    "print(X['is_stake'].value_counts() / X.shape[0])"
   ]
  },
  {
   "cell_type": "markdown",
   "metadata": {
    "_uuid": "d0ad1a53cac1da95697f1ebfa1c5e7c229f52083"
   },
   "source": [
    "From these figures, we read \n",
    "- we predict worse for closer ranks\n",
    "- lower ranks in general\n",
    "- and somewhat for matches with no stakes (Friendly here)\n",
    "\n",
    "Luckily, this implies that for the world cup our predicitons may be somewhat even better"
   ]
  },
  {
   "cell_type": "markdown",
   "metadata": {
    "_uuid": "479b97e38320c9eba008210903b17951edc84727"
   },
   "source": [
    "# World Cup simulation"
   ]
  },
  {
   "cell_type": "markdown",
   "metadata": {
    "_uuid": "16eae35346f7a015d627801e05d0d408f3091964"
   },
   "source": [
    "## Group rounds"
   ]
  },
  {
   "cell_type": "code",
   "execution_count": 6,
   "metadata": {
    "_uuid": "db455e9096f0a41a0abd512193222f366d42c4c8"
   },
   "outputs": [],
   "source": [
    "# let's define a small margin when we safer to predict draw then win\n",
    "margin = 0.05\n",
    "\n",
    "# let's define the rankings at the time of the World Cup\n",
    "world_cup_rankings = rankings.loc[(rankings['rank_date'] == rankings['rank_date'].max()) & \n",
    "                                    rankings['country_full'].isin(world_cup.index.unique())]\n",
    "world_cup_rankings = world_cup_rankings.set_index(['country_full'])"
   ]
  },
  {
   "cell_type": "code",
   "execution_count": 9,
   "metadata": {
    "_uuid": "fd197611ef601dcc41c59f48f37f66bec6d2d669"
   },
   "outputs": [
    {
     "name": "stdout",
     "output_type": "stream",
     "text": [
      "___Starting group G:___\n",
      "Belgium vs. Panama:    average_rank  rank_difference  point_difference  is_stake\n",
      "0          29.0            -52.0            558.83       1.0\n",
      "Belgium wins with 0.65\n",
      "Belgium vs. Tunisia:    average_rank  rank_difference  point_difference  is_stake\n",
      "0          12.0            -18.0            262.98       1.0\n",
      "Belgium wins with 0.58\n",
      "Belgium vs. England:    average_rank  rank_difference  point_difference  is_stake\n",
      "0           7.5             -9.0            221.41       1.0\n",
      "Draw\n",
      "Panama vs. Tunisia:    average_rank  rank_difference  point_difference  is_stake\n",
      "0          38.0             34.0           -295.85       1.0\n",
      "Tunisia wins with 0.68\n",
      "Panama vs. England:    average_rank  rank_difference  point_difference  is_stake\n",
      "0          33.5             43.0           -337.42       1.0\n",
      "England wins with 0.73\n",
      "Tunisia vs. England:    average_rank  rank_difference  point_difference  is_stake\n",
      "0          16.5              9.0            -41.57       1.0\n",
      "England wins with 0.56\n",
      "___Starting group C:___\n",
      "France vs. Australia:    average_rank  rank_difference  point_difference  is_stake\n",
      "0          21.5            -29.0             245.2       1.0\n",
      "France wins with 0.61\n",
      "France vs. Peru:    average_rank  rank_difference  point_difference  is_stake\n",
      "0           9.0             -4.0             38.41       1.0\n",
      "Draw\n",
      "France vs. Denmark:    average_rank  rank_difference  point_difference  is_stake\n",
      "0           9.5             -5.0           -124.25       1.0\n",
      "Draw\n",
      "Australia vs. Peru:    average_rank  rank_difference  point_difference  is_stake\n",
      "0          23.5             25.0           -206.79       1.0\n",
      "Peru wins with 0.64\n",
      "Australia vs. Denmark:    average_rank  rank_difference  point_difference  is_stake\n",
      "0          24.0             24.0           -369.45       1.0\n",
      "Denmark wins with 0.66\n",
      "Peru vs. Denmark:    average_rank  rank_difference  point_difference  is_stake\n",
      "0          11.5             -1.0           -162.66       1.0\n",
      "Draw\n",
      "___Starting group D:___\n",
      "Argentina vs. Iceland:    average_rank  rank_difference  point_difference  is_stake\n",
      "0          13.5            -17.0            210.76       1.0\n",
      "Argentina wins with 0.57\n",
      "Argentina vs. Croatia:    average_rank  rank_difference  point_difference  is_stake\n",
      "0          12.5            -15.0            227.86       1.0\n",
      "Argentina wins with 0.56\n",
      "Argentina vs. Nigeria:    average_rank  rank_difference  point_difference  is_stake\n",
      "0          26.5            -43.0            455.98       1.0\n",
      "Argentina wins with 0.63\n",
      "Iceland vs. Croatia:    average_rank  rank_difference  point_difference  is_stake\n",
      "0          21.0              2.0              17.1       1.0\n",
      "Draw\n",
      "Iceland vs. Nigeria:    average_rank  rank_difference  point_difference  is_stake\n",
      "0          35.0            -26.0            245.22       1.0\n",
      "Iceland wins with 0.57\n",
      "Croatia vs. Nigeria:    average_rank  rank_difference  point_difference  is_stake\n",
      "0          34.0            -28.0            228.12       1.0\n",
      "Croatia wins with 0.58\n",
      "___Starting group E:___\n",
      "Brazil vs. Switzerland:    average_rank  rank_difference  point_difference  is_stake\n",
      "0           4.0             -4.0             94.95       1.0\n",
      "Draw\n",
      "Brazil vs. Costa Rica:    average_rank  rank_difference  point_difference  is_stake\n",
      "0          12.5            -21.0            245.65       1.0\n",
      "Brazil wins with 0.59\n",
      "Brazil vs. Serbia:    average_rank  rank_difference  point_difference  is_stake\n",
      "0          18.0            -32.0             342.2       1.0\n",
      "Brazil wins with 0.62\n",
      "Switzerland vs. Costa Rica:    average_rank  rank_difference  point_difference  is_stake\n",
      "0          14.5            -17.0             150.7       1.0\n",
      "Switzerland wins with 0.57\n",
      "Switzerland vs. Serbia:    average_rank  rank_difference  point_difference  is_stake\n",
      "0          20.0            -28.0            247.25       1.0\n",
      "Switzerland wins with 0.60\n",
      "Costa Rica vs. Serbia:    average_rank  rank_difference  point_difference  is_stake\n",
      "0          28.5            -11.0             96.55       1.0\n",
      "Draw\n",
      "___Starting group A:___\n",
      "Russia vs. Saudi Arabia:    average_rank  rank_difference  point_difference  is_stake\n",
      "0          68.5              3.0             63.27       1.0\n",
      "Saudi Arabia wins with 0.57\n",
      "Russia vs. Egypt:    average_rank  rank_difference  point_difference  is_stake\n",
      "0          57.5             25.0             -9.94       1.0\n",
      "Egypt wins with 0.66\n",
      "Russia vs. Uruguay:    average_rank  rank_difference  point_difference  is_stake\n",
      "0          42.0             56.0           -426.12       1.0\n",
      "Uruguay wins with 0.77\n",
      "Saudi Arabia vs. Egypt:    average_rank  rank_difference  point_difference  is_stake\n",
      "0          56.0             22.0            -73.21       1.0\n",
      "Egypt wins with 0.64\n",
      "Saudi Arabia vs. Uruguay:    average_rank  rank_difference  point_difference  is_stake\n",
      "0          40.5             53.0           -489.39       1.0\n",
      "Uruguay wins with 0.77\n",
      "Egypt vs. Uruguay:    average_rank  rank_difference  point_difference  is_stake\n",
      "0          29.5             31.0           -416.18       1.0\n",
      "Uruguay wins with 0.69\n",
      "___Starting group F:___\n",
      "Germany vs. Mexico:    average_rank  rank_difference  point_difference  is_stake\n",
      "0           8.0            -14.0            406.44       1.0\n",
      "Germany wins with 0.58\n",
      "Germany vs. Sweden:    average_rank  rank_difference  point_difference  is_stake\n",
      "0          12.5            -23.0            478.58       1.0\n",
      "Germany wins with 0.59\n",
      "Germany vs. Korea Republic:    average_rank  rank_difference  point_difference  is_stake\n",
      "0          29.0            -56.0            822.61       1.0\n",
      "Germany wins with 0.61\n",
      "Mexico vs. Sweden:    average_rank  rank_difference  point_difference  is_stake\n",
      "0          19.5             -9.0             72.14       1.0\n",
      "Draw\n",
      "Mexico vs. Korea Republic:    average_rank  rank_difference  point_difference  is_stake\n",
      "0          36.0            -42.0            416.17       1.0\n",
      "Mexico wins with 0.61\n",
      "Sweden vs. Korea Republic:    average_rank  rank_difference  point_difference  is_stake\n",
      "0          40.5            -33.0            344.03       1.0\n",
      "Sweden wins with 0.58\n",
      "___Starting group B:___\n",
      "Portugal vs. Spain:    average_rank  rank_difference  point_difference  is_stake\n",
      "0           7.0             -6.0            108.01       1.0\n",
      "Draw\n",
      "Portugal vs. Morocco:    average_rank  rank_difference  point_difference  is_stake\n",
      "0          22.5            -37.0            414.56       1.0\n",
      "Portugal wins with 0.62\n",
      "Portugal vs. Iran:    average_rank  rank_difference  point_difference  is_stake\n",
      "0          20.5            -33.0            465.45       1.0\n",
      "Portugal wins with 0.61\n",
      "Spain vs. Morocco:    average_rank  rank_difference  point_difference  is_stake\n",
      "0          25.5            -31.0            306.55       1.0\n",
      "Spain wins with 0.60\n",
      "Spain vs. Iran:    average_rank  rank_difference  point_difference  is_stake\n",
      "0          23.5            -27.0            357.44       1.0\n",
      "Spain wins with 0.59\n",
      "Morocco vs. Iran:    average_rank  rank_difference  point_difference  is_stake\n",
      "0          39.0              4.0             50.89       1.0\n",
      "Iran wins with 0.56\n",
      "___Starting group H:___\n",
      "Poland vs. Senegal:    average_rank  rank_difference  point_difference  is_stake\n",
      "0          17.5            -19.0            164.83       1.0\n",
      "Poland wins with 0.57\n",
      "Poland vs. Colombia:    average_rank  rank_difference  point_difference  is_stake\n",
      "0          12.0             -8.0             75.94       1.0\n",
      "Draw\n",
      "Poland vs. Japan:    average_rank  rank_difference  point_difference  is_stake\n",
      "0          34.5            -53.0            419.88       1.0\n",
      "Poland wins with 0.66\n",
      "Senegal vs. Colombia:    average_rank  rank_difference  point_difference  is_stake\n",
      "0          21.5             11.0            -88.89       1.0\n",
      "Colombia wins with 0.57\n",
      "Senegal vs. Japan:    average_rank  rank_difference  point_difference  is_stake\n",
      "0          44.0            -34.0            255.05       1.0\n",
      "Senegal wins with 0.59\n",
      "Colombia vs. Japan:    average_rank  rank_difference  point_difference  is_stake\n",
      "0          38.5            -45.0            343.94       1.0\n",
      "Colombia wins with 0.63\n"
     ]
    }
   ],
   "source": [
    "from itertools import combinations\n",
    "\n",
    "opponents = ['First match \\nagainst', 'Second match\\n against', 'Third match\\n against']\n",
    "\n",
    "world_cup['points'] = 0\n",
    "world_cup['total_prob'] = 0\n",
    "\n",
    "for group in set(world_cup['Group']):\n",
    "    print('___Starting group {}:___'.format(group))\n",
    "    for home, away in combinations(world_cup.query('Group == \"{}\"'.format(group)).index, 2):\n",
    "        print(\"{} vs. {}: \".format(home, away), end='')\n",
    "        row = pd.DataFrame(np.array([[np.nan, np.nan, np.nan, True]]), columns=X_test.columns)\n",
    "        home_rank = world_cup_rankings.loc[home, 'rank']\n",
    "        home_points = world_cup_rankings.loc[home, 'weighted_points']\n",
    "        opp_rank = world_cup_rankings.loc[away, 'rank']\n",
    "        opp_points = world_cup_rankings.loc[away, 'weighted_points']\n",
    "        row['average_rank'] = (home_rank + opp_rank) / 2\n",
    "        row['rank_difference'] = home_rank - opp_rank\n",
    "        row['point_difference'] = home_points - opp_points\n",
    "        print(row)\n",
    "        home_win_prob = model.predict_proba(row)[:,1][0]\n",
    "        world_cup.loc[home, 'total_prob'] += home_win_prob\n",
    "        world_cup.loc[away, 'total_prob'] += 1-home_win_prob\n",
    "        \n",
    "        points = 0\n",
    "        if home_win_prob <= 0.5 - margin:\n",
    "            print(\"{} wins with {:.2f}\".format(away, 1-home_win_prob))\n",
    "            world_cup.loc[away, 'points'] += 3\n",
    "        if home_win_prob > 0.5 - margin:\n",
    "            points = 1\n",
    "        if home_win_prob >= 0.5 + margin:\n",
    "            points = 3\n",
    "            world_cup.loc[home, 'points'] += 3\n",
    "            print(\"{} wins with {:.2f}\".format(home, home_win_prob))\n",
    "        if points == 1:\n",
    "            print(\"Draw\")\n",
    "            world_cup.loc[home, 'points'] += 1\n",
    "            world_cup.loc[away, 'points'] += 1"
   ]
  },
  {
   "cell_type": "markdown",
   "metadata": {
    "_uuid": "b2c787fd8541c281f736a4c6b698839f565ac1b8"
   },
   "source": [
    "## Single-elimination rounds"
   ]
  },
  {
   "cell_type": "code",
   "execution_count": null,
   "metadata": {
    "_uuid": "2eb8426dfc5e4fdd985e8109179e34dac2e9c976",
    "collapsed": true
   },
   "outputs": [],
   "source": [
    "pairing = [0,3,4,7,8,11,12,15,1,2,5,6,9,10,13,14]\n",
    "\n",
    "world_cup = world_cup.sort_values(by=['Group', 'points', 'total_prob'], ascending=False).reset_index()\n",
    "next_round_wc = world_cup.groupby('Group').nth([0, 1]) # select the top 2\n",
    "next_round_wc = next_round_wc.reset_index()\n",
    "next_round_wc = next_round_wc.loc[pairing]\n",
    "next_round_wc = next_round_wc.set_index('Team')\n",
    "\n",
    "finals = ['round_of_16', 'quarterfinal', 'semifinal', 'final']\n",
    "\n",
    "labels = list()\n",
    "odds = list()\n",
    "\n",
    "for f in finals:\n",
    "    print(\"___Starting of the {}___\".format(f))\n",
    "    iterations = int(len(next_round_wc) / 2)\n",
    "    winners = []\n",
    "\n",
    "    for i in range(iterations):\n",
    "        home = next_round_wc.index[i*2]\n",
    "        away = next_round_wc.index[i*2+1]\n",
    "        print(\"{} vs. {}: \".format(home,\n",
    "                                   away), \n",
    "                                   end='')\n",
    "        row = pd.DataFrame(np.array([[np.nan, np.nan, np.nan, True]]), columns=X_test.columns)\n",
    "        home_rank = world_cup_rankings.loc[home, 'rank']\n",
    "        home_points = world_cup_rankings.loc[home, 'weighted_points']\n",
    "        opp_rank = world_cup_rankings.loc[away, 'rank']\n",
    "        opp_points = world_cup_rankings.loc[away, 'weighted_points']\n",
    "        row['average_rank'] = (home_rank + opp_rank) / 2\n",
    "        row['rank_difference'] = home_rank - opp_rank\n",
    "        row['point_difference'] = home_points - opp_points\n",
    "\n",
    "        home_win_prob = model.predict_proba(row)[:,1][0]\n",
    "        if model.predict_proba(row)[:,1] <= 0.5:\n",
    "            print(\"{0} wins with probability {1:.2f}\".format(away, 1-home_win_prob))\n",
    "            winners.append(away)\n",
    "        else:\n",
    "            print(\"{0} wins with probability {1:.2f}\".format(home, home_win_prob))\n",
    "            winners.append(home)\n",
    "\n",
    "        labels.append(\"{}({:.2f}) vs. {}({:.2f})\".format(world_cup_rankings.loc[home, 'country_abrv'], \n",
    "                                                        1/home_win_prob, \n",
    "                                                        world_cup_rankings.loc[away, 'country_abrv'], \n",
    "                                                        1/(1-home_win_prob)))\n",
    "        odds.append([home_win_prob, 1-home_win_prob])\n",
    "                \n",
    "    next_round_wc = next_round_wc.loc[winners]\n",
    "    print(\"\\n\")"
   ]
  },
  {
   "cell_type": "markdown",
   "metadata": {
    "_uuid": "19a4df1e098b4e9fc647c28b5f9a9b06448fd8eb"
   },
   "source": [
    "# Let's see a visualization "
   ]
  },
  {
   "cell_type": "code",
   "execution_count": null,
   "metadata": {
    "_uuid": "8d5f7d249feb7e4d83a659686a2b4cfe96c63d0b",
    "collapsed": true,
    "scrolled": false
   },
   "outputs": [],
   "source": [
    "import networkx as nx\n",
    "import pydot\n",
    "from networkx.drawing.nx_pydot import graphviz_layout\n",
    "\n",
    "node_sizes = pd.DataFrame(list(reversed(odds)))\n",
    "scale_factor = 0.3 # for visualization\n",
    "G = nx.balanced_tree(2, 3)\n",
    "pos = graphviz_layout(G, prog='twopi', args='')\n",
    "centre = pd.DataFrame(pos).mean(axis=1).mean()\n",
    "\n",
    "plt.figure(figsize=(10, 10))\n",
    "ax = plt.subplot(1,1,1)\n",
    "# add circles \n",
    "circle_positions = [(235, 'black'), (180, 'blue'), (120, 'red'), (60, 'yellow')]\n",
    "[ax.add_artist(plt.Circle((centre, centre), \n",
    "                          cp, color='grey', \n",
    "                          alpha=0.2)) for cp, c in circle_positions]\n",
    "\n",
    "# draw first the graph\n",
    "nx.draw(G, pos, \n",
    "        node_color=node_sizes.diff(axis=1)[1].abs().pow(scale_factor), \n",
    "        node_size=node_sizes.diff(axis=1)[1].abs().pow(scale_factor)*2000, \n",
    "        alpha=1, \n",
    "        cmap='Reds',\n",
    "        edge_color='black',\n",
    "        width=10,\n",
    "        with_labels=False)\n",
    "\n",
    "# draw the custom node labels\n",
    "shifted_pos = {k:[(v[0]-centre)*0.9+centre,(v[1]-centre)*0.9+centre] for k,v in pos.items()}\n",
    "nx.draw_networkx_labels(G, \n",
    "                        pos=shifted_pos, \n",
    "                        bbox=dict(boxstyle=\"round,pad=0.3\", fc=\"white\", ec=\"black\", lw=.5, alpha=1),\n",
    "                        labels=dict(zip(reversed(range(len(labels))), labels)))\n",
    "\n",
    "texts = ((10, 'Best 16', 'black'), (70, 'Quarter-\\nfinal', 'blue'), (130, 'Semifinal', 'red'), (190, 'Final', 'yellow'))\n",
    "[plt.text(p, centre+20, t, \n",
    "          fontsize=12, color='grey', \n",
    "          va='center', ha='center') for p,t,c in texts]\n",
    "plt.axis('equal')\n",
    "plt.title('Single-elimination phase\\npredictions with fair odds', fontsize=20)\n",
    "plt.show()"
   ]
  },
  {
   "cell_type": "markdown",
   "metadata": {
    "_uuid": "a0d13d51d8a19ff066d92296cff7361a24b703b3",
    "collapsed": true
   },
   "source": [
    "Fin"
   ]
  },
  {
   "cell_type": "code",
   "execution_count": null,
   "metadata": {
    "_uuid": "bab22501ec001b665a0a0f61d2c91216d48fe8b6",
    "collapsed": true
   },
   "outputs": [],
   "source": []
  }
 ],
 "metadata": {
  "kernelspec": {
   "display_name": "Python 3",
   "language": "python",
   "name": "python3"
  },
  "language_info": {
   "codemirror_mode": {
    "name": "ipython",
    "version": 3
   },
   "file_extension": ".py",
   "mimetype": "text/x-python",
   "name": "python",
   "nbconvert_exporter": "python",
   "pygments_lexer": "ipython3",
   "version": "3.8.3"
  }
 },
 "nbformat": 4,
 "nbformat_minor": 1
}
